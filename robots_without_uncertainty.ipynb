{
  "nbformat": 4,
  "nbformat_minor": 0,
  "metadata": {
    "colab": {
      "provenance": []
    },
    "kernelspec": {
      "name": "python3",
      "display_name": "Python 3"
    },
    "language_info": {
      "name": "python"
    }
  },
  "cells": [
    {
      "cell_type": "markdown",
      "source": [
        "#Planning Subject to Well-Known Temporal Availability Constraints (MILP Algorithm) : RoboMAX Context.\n"
      ],
      "metadata": {
        "id": "8_0m1aiHQ3rL"
      }
    },
    {
      "cell_type": "code",
      "source": [
        "%pip install pulp"
      ],
      "metadata": {
        "id": "7kQFCXopRhjn"
      },
      "execution_count": null,
      "outputs": []
    },
    {
      "cell_type": "code",
      "source": [
        "import random\n",
        "from pulp import *\n",
        "\n",
        "# Linear constraints to ensure that the robots do not overlap\n",
        "def check_robot_constraints(assignment):\n",
        "    for i in range(len(assignment)):\n",
        "        for j in range(i + 1, len(assignment)):\n",
        "            if assignment[i].robot == assignment[j].robot:\n",
        "                if assignment[i].tiempo_fin > assignment[j].tiempo_inicio and assignment[j].tiempo_fin > assignment[i].tiempo_inicio:\n",
        "                    return False\n",
        "    return True\n",
        "\n",
        "# Function to obtain the exact time it takes to attend to a patient\n",
        "def get_exact_attending_time(paciente, begin_time, end_time):\n",
        "    tiempo_inicio = begin_time\n",
        "    tiempo_fin = end_time\n",
        "\n",
        "    ##Assuming the time it takes to deliver the meal is 0\n",
        "\n",
        "    if paciente.has_food == False:\n",
        "        tiempo_fin_atencion = tiempo_inicio + paciente.get_attending_time\n",
        "\n",
        "        if tiempo_fin_atencion > tiempo_fin:\n",
        "            tiempo_fin_atencion = tiempo_fin\n",
        "    else:\n",
        "        tiempo_fin_atencion = tiempo_inicio\n",
        "\n",
        "    return tiempo_fin_atencion\n",
        "\n",
        "# Function to solve the problem using linear programming\n",
        "def solve_optimization_problem(vehiculos, cargadores):\n",
        "\n",
        "    # Create the problem\n",
        "    prob = LpProblem(\"Carga_de_vehiculos\", LpMinimize)\n",
        "\n",
        "    # Decission variables\n",
        "    assignment_vars = LpVariable.dicts(\"Assignment\", [(paciente.id, robot.id) for paciente in pacientes for robot in robots], 0, 1, LpBinary)\n",
        "\n",
        "    # Objective function\n",
        "    prob += lpSum([assignment_vars[(paciente.id, robot.id)] * paciente.get_attending_time() for paciente in pacientes for robot in robots])\n",
        "\n",
        "    # Constraints\n",
        "    for paciente in pacientes:\n",
        "        prob += lpSum([assignment_vars[(paciente.id, robot.id)] for robot in robots]) == 1\n",
        "\n",
        "\n",
        "    for robot in robots:\n",
        "        prob += lpSum([assignment_vars[(paciente.id, robot.id)] for paciente in pacientes]) <= 1\n",
        "\n",
        "    # Solve the problem\n",
        "    prob.solve()\n",
        "\n",
        "    # Extract the solution\n",
        "    best_assignment = []\n",
        "    for paciente in pacientes:\n",
        "        for cargador in cargadores:\n",
        "            if assignment_vars[(paciente.id, robot.id)].value() == 1:\n",
        "                tiempo_inicio = paciente.available_time_start * assignment_vars[(paciente.id, robot.id)].value()\n",
        "                tiempo_fin = paciente.available_time_end * assignment_vars[(robot.id, cargador.id)].value()\n",
        "                tiempo_fin_atencion = get_exact_attending_time(paciente, tiempo_inicio, tiempo_fin)\n",
        "                best_assignment.append(item_planlist(paciente, tiempo_inicio, tiempo_fin_atencion, robot))\n",
        "\n",
        "\n",
        "    return best_assignment\n",
        "\n",
        "\n",
        "file_name = 'pacientes2.txt'\n",
        "pacientes = create_patients_from_file(file_name)\n",
        "\n",
        "\n",
        "\n",
        "# Robots inicialization\n",
        "robots = [Robot(1), Robot(2), Robot(3)]\n",
        "\n",
        "import time\n",
        "inicial = time.time()\n",
        "\n",
        "# Solve the problem\n",
        "best_assignment= solve_optimization_problem(pacientes, robots)\n",
        "\n",
        "final = time.time()\n",
        "\n",
        "# Execution time\n",
        "tiempo_transcurrido = final - inicial\n",
        "\n",
        "# Imprimir la mejor solución encontrada\n",
        "\n",
        "print(\"Planificación:\")\n",
        "for item in best_assignment:\n",
        "    print(\"Vehículo \" + str(item.vehiculo.id))\n",
        "    print(\"Inicio: \" + str(item.tiempo_inicio))\n",
        "    print(\"Fin: \" + str(item.tiempo_fin))\n",
        "    print(\"Cargador \" + str(item.cargador.id))\n",
        "    print(\"\")\n",
        "\n",
        "print(tiempo_transcurrido)\n"
      ],
      "metadata": {
        "id": "vdfIekCrt2HZ"
      },
      "execution_count": null,
      "outputs": []
    }
  ]
}